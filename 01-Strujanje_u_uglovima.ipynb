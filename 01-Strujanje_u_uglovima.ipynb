{
 "cells": [
  {
   "cell_type": "markdown",
   "id": "63abb3e6-d116-407d-8a87-40089345206f",
   "metadata": {},
   "source": [
    "# **1. Струјање у угловима**\n",
    "\n",
    "## **1.1 Струјање у четири угла**\n",
    "\n",
    "У оквиру ове лекције приказаћемо коришћење одговарајућих функција из матплотлиб (енг. matplotlib модула) за визуелизацију струјног поља. На предавањима су за задато поље брзине\n",
    "\n",
    "$$ u = ax, \\qquad v = -ay, \\qquad a \\in \\mathbb{R}^{+}, \\quad [a] = T^{-1}$$\n",
    "\n",
    "детаљно изведени изрази за потенцијал брзине $\\varphi(x,y)$ и струјну функцију $\\psi(x,y)$. Ми ћемо изабрати да је вредност константе $a$ једнака јединици ($a=1$), па ће изрази за $\\varphi(x,y)$ и $\\psi(x,y)$ бити\n",
    "\n",
    "$$\\varphi (x,y) = \\frac{1}{2} (x^2 - y^2), \\qquad \\psi(x,y) = xy$$\n",
    "\n",
    "Сада желимо да прикажемо еквискаларне линије $\\boxed{\\psi(x,y) = \\psi_i = \\mathrm{const}}$ - **струјнице** и $\\boxed{\\varphi(x,y) = \\varphi_i = \\mathrm{const}}$ - **еквипотенцијалне линије**. Струјнице ћемо приказати црвеном бојом, док ћемо еквипотенцијалне линије приказати црном бојом испрекидано.\n",
    "\n",
    "Прво ћемо направити два низа користећи нумпај (енг. numpy, [http://numpy.org](http://numpy.org)) и команду линспејс (eнг. linspace). Помоћу те команде се формира низ од $x_{\\min}$ до $x_{\\max}$ са задатим бројем елемената ($N_x$), тако да је сукцесивно растојање између чланова низа $\\Delta x$ дефинисаном изразом\n",
    "\n",
    "$$ \\Delta x = \\frac{x_{\\max} - x_{\\min}}{N_x - 1} $$\n",
    "\n",
    "У конкретном примеру поделићемо сегмент од -5 до 5 на 200 једнаких делова. Низ има 201 члан, почев од првог елемента -5, закључно са последњим 5. Индекс првог члана низа је, док је индекс последњег члана низа 200. Број елемената низа утиче на резолуцију добијених контура и приказа векторског поља брзине - што је тај број већи резолуција је боља, али и веће коришћење ресурса рачунара (RAM меморије).\n",
    "\n",
    "Како знамо да ће струјна слика бити симетрична у односу на обе координанте осе, изабраћемо исти опсег и за координату $y$. Командом мешгрид (енг. meshgrid) се креира мрежа прорачунских тачака са паровима координата $(x,y)$. Тих парова координата има $N_x N_y$. Сада се једноставно задају изрази функције $\\varphi$ и $\\psi$ у функцији координата $X$ и $Y$ (желимо приказ на \"meshgrid\"-у). \n",
    "\n",
    "На крају, приказаћемо струјнице црвеном бојом, а еквипотенцијалне линије црном бојом и испрекиданим линијама."
   ]
  },
  {
   "cell_type": "code",
   "execution_count": null,
   "id": "8e98c5f8-8535-4e71-9e5c-3ebfcdd43bb6",
   "metadata": {},
   "outputs": [],
   "source": [
    "import numpy as np\n",
    "from matplotlib import pyplot as plt\n",
    "plt.rcParams['axes.facecolor'] = '#EBECF0' # светло сива позадина дијаграма\n",
    "\n",
    "Nx = 201\n",
    "Ny = 201\n",
    "x = np.linspace(-5, 5, Nx)\n",
    "y = np.linspace(-5, 5, Ny)\n",
    "\n",
    "\n",
    "X,Y = np.meshgrid(x,y)\n",
    "\n",
    "phi = 0.5*(X**2 - Y**2)\n",
    "psi = X*Y\n",
    "psi_i = np.linspace(-10, 10, 11)\n",
    "phi_i = np.linspace(-10, 10, 11)\n",
    "\n",
    "\n",
    "plt.figure(figsize=(7, 7), dpi=100)\n",
    "strujnice = plt.contour(X,Y, psi, levels = psi_i, linewidths=2.5, colors='red', linestyles='solid')\n",
    "ekvipotencijalne_linije = plt.contour(X,Y, phi, levels = phi_i, linewidths=2, linestyles='dashed', colors='black')\n",
    "plt.title(\"Струјнице и еквипотенцијане линије\", fontsize=14, pad = 20, weight='bold')\n",
    "plt.xlabel(\"$x$\", fontsize=12)\n",
    "plt.ylabel(\"$y$\", fontsize=12)"
   ]
  },
  {
   "cell_type": "markdown",
   "id": "9ff020c0-cf1c-43c6-924c-bd8dc73bda41",
   "metadata": {},
   "source": [
    "Векторско поље брзине ћемо приказати коришћем функције стримплот (енг. streamplot) из модула матплотлиб (енг. matplotlib). Користићемо исту резолуцију раванске мреже $(Nx \\times Ny = 201\\times201)$. Такође, на истом дијаграму ћемо додати и струјницу на којој је вредност струјне функције једнака нулу ($\\psi = 0$)."
   ]
  },
  {
   "cell_type": "code",
   "execution_count": null,
   "id": "e1060a76-c947-46a0-8414-920f269ba953",
   "metadata": {
    "tags": []
   },
   "outputs": [],
   "source": [
    "u = X\n",
    "v = -Y\n",
    "plt.figure(figsize=(7,7), dpi=100)\n",
    "plt.title(\"Струјнице на основу векторског поља брзине\", fontsize=14, pad = 20, weight='bold')\n",
    "strujna_slika = plt.streamplot(X, Y, u, v, density=[1.1], linewidth=2, arrowsize = 1.25)\n",
    "nulta_strujnica = plt.contour(X,Y, psi, levels=[0], linewidths=2.5, colors='red', linestyles='solid')\n",
    "plt.xlabel(\"$x$\", fontsize=12)\n",
    "plt.ylabel(\"$y$\", fontsize=12)"
   ]
  },
  {
   "cell_type": "markdown",
   "id": "af38896d-c916-4f91-9285-037fda30c4c8",
   "metadata": {},
   "source": [
    "Расподела притиска у теорији потенцијалних струјања се одређује из Бернулијеве једначине\n",
    "\n",
    "$$p + \\rho \\frac{U^2}{2} = \\mathrm{const} \\qquad \\Rightarrow \\qquad p + \\rho \\frac{U^2}{2} = p_{\\infty} + \\rho \\frac{U_{\\infty}^2}{2}$$\n",
    "\n",
    "где су $p_{\\infty}$ и $U_{\\infty}$ притисак и брзина далеко од опструјаваног тела. У овом случају једна од координатних оса може представљати непропусну чврсту контуру (зид), па се овим струјањем може описати удар вертикалног млаза у хоризонталног зида. Ради лакшег представљања поља притиска, погодно је увести коефицијент притиска $C_p$ који се дефинише на следећи начин:\n",
    "\n",
    "$$\\qquad p - p_{\\infty} = \\rho\\frac{U_{\\infty}^2}{2} \\left( 1 - \\frac{U^2}{U_{\\infty}^2}\\right) \\qquad \\Rightarrow \\qquad C_p \\equiv \\frac{p-p_{\\infty}}{\\frac{1}{2}\\rho U_{\\infty}^2} \\qquad \\boxed{C_p = 1 - \\frac{U^2}{U_{\\infty}^2}}$$ "
   ]
  },
  {
   "cell_type": "markdown",
   "id": "5eeb72f8-e4f1-423a-8a29-a360e47aafb8",
   "metadata": {
    "tags": []
   },
   "source": [
    "У овом струјном пољу брзина тежи бесконачности када $(x,y) \\to \\infty$, па ћемо стога изабрати да је $U_{\\infty} = 5\\,\\mathrm{m/s}$, што оквирно одговара вредности интензитета брзине на границама разматраног домена. На основу његове дефиниције, максимална вредност коефицијента притиска је једнака јединици и та тачка у струјном пољу представља **зауставну тачку** (тачка у којој је брзина једнака нули, а притисак има максималну вредност). У разматраном проблему, то је координатни почетак."
   ]
  },
  {
   "cell_type": "code",
   "execution_count": null,
   "id": "c4b62e6a-ed7f-4403-a285-e2e37ef88a1c",
   "metadata": {
    "tags": []
   },
   "outputs": [],
   "source": [
    "Uinf = 5 \n",
    "Usqr = u**2 + v**2 ## Интензитет брзине на квадрат\n",
    "\n",
    "Cp = 1 - Usqr/Uinf**2\n",
    "\n",
    "plt.figure(figsize=(16,7), dpi=100)\n",
    "plt.title(\"Расподела коефицијента притиска $C_p$\", fontsize=16, pad = 20, weight='bold')\n",
    "plt.contourf(X,Y, Cp, levels=64, cmap='jet')\n",
    "cbar = plt.colorbar(orientation='vertical')\n",
    "cbar.ax.tick_params(labelsize=10)\n",
    "plt.xlabel(\"$x$\", fontsize=12)\n",
    "plt.ylabel(\"$y$\", fontsize=12)\n",
    "plt.ylim([0,5])"
   ]
  },
  {
   "cell_type": "markdown",
   "id": "58c21705-755d-46ba-8ae0-1aff2af1b93b",
   "metadata": {},
   "source": [
    "Дакле, линије константног коефијента притиска су концентричне кружнице, са центром у координатном почетку! То следи из замене израза за пројекције брзине\n",
    "\n",
    "$$C_p = 1 - \\frac{u^2 + v^2}{U_{\\infty}}^2 = 1 - \\frac{x^2 + y^2}{U_\\infty^2} \\qquad \\Rightarrow \\qquad x^2  + y^2 = U_{\\infty}^2(1 - C_p)$$\n"
   ]
  },
  {
   "cell_type": "markdown",
   "id": "1e2229a8-68df-4b21-97ef-8b2e333ff05a",
   "metadata": {},
   "source": [
    "\n",
    "\n",
    "## **1.2 Струјање у $\\boldsymbol{2n}$ углова**\n",
    "\n",
    "Комплексни потенцијал струјања у $2n$ углова је одређен изразом:\n",
    "\n",
    "$ \\qquad w(z) = C z^n$\n",
    "\n",
    "где је $C$ константа из скупа комплексних бројева. Та константа суштински само одређује угао ротације струјне слике око осе која садржи координатни почетак и управна је на раван цртежa  - види дискусију на [https://elearning.rcub.bg.ac.rs/moodle/mod/forum/discuss.php?d=8693](https://elearning.rcub.bg.ac.rs/moodle/mod/forum/discuss.php?d=8693). Разматраћемо управо случај чије је детаљно решење дато у оквиру те дискусије - струјање у 6 углова, чији је комплексни потенцијал одређен изразом\n",
    "\n",
    "$ \\qquad w(z) = z^3$\n",
    "\n",
    "Дакле, вредност константе $C=1$, али ћемо њу дефинисати као промењиву у програму, да би смо касније могли да мењамо њену вредност."
   ]
  },
  {
   "cell_type": "code",
   "execution_count": null,
   "id": "ccebb660-c3dc-4a50-bcc8-9ea96c292b24",
   "metadata": {
    "tags": []
   },
   "outputs": [],
   "source": [
    "import numpy as np\n",
    "from matplotlib import pyplot as plt\n",
    "plt.rcParams['axes.facecolor'] = '#EBECF0' # светло сива позадина дијаграма\n",
    "\n",
    "Nx = 201\n",
    "Ny = 201\n",
    "x = np.linspace(-5, 5, Nx)\n",
    "y = np.linspace(-5, 5, Ny)\n",
    "X,Y = np.meshgrid(x,y)\n",
    "\n",
    "C = 1\n",
    "\n",
    "z = X + 1j*Y\n",
    "wz = C*z**3\n",
    "phi= wz.real\n",
    "psi = wz.imag\n",
    "\n",
    "psi_i = np.linspace(-80, 80, 11)\n",
    "phi_i = np.linspace(-80, 80, 11)\n",
    "\n",
    "\n",
    "plt.figure(figsize=(7, 7), dpi=100)\n",
    "plt.title(\"Струјнице и еквипотенцијалне линије\", fontsize=14, pad = 20, weight='bold')\n",
    "strujnice = plt.contour(X,Y, psi, levels = psi_i, linewidths=2.5, colors='red', linestyles='solid')\n",
    "ekvipotencijalne_linije = plt.contour(X,Y, phi, levels = phi_i, linewidths=2, linestyles='dashed', colors='black')\n",
    "plt.xlabel(\"$x$\", fontsize=12)\n",
    "plt.ylabel(\"$y$\", fontsize=12)"
   ]
  },
  {
   "cell_type": "markdown",
   "id": "2f6631bf-b7ae-4cd4-bcee-0b7cdbcc21aa",
   "metadata": {
    "tags": []
   },
   "source": [
    "Ако желимо струјну слику да заротирамо за угао од $30^{\\circ} \\equiv \\pi/6$ вредност константе $C = -i$, односно у блоку (ћелији) програмског кода треба написати C = -1j. Докажите ово и пробајте сами!\n",
    "\n",
    "Струјна слика са струјницом на којој је $\\psi=0$ (приказана црвеном бојом) је дата у следећем блоку програмског кода."
   ]
  },
  {
   "cell_type": "code",
   "execution_count": null,
   "id": "f87cfd5f-d728-4a48-8b41-4cb93a039176",
   "metadata": {
    "tags": []
   },
   "outputs": [],
   "source": [
    "U = 3*z**2\n",
    "u = U.real\n",
    "v = -U.imag\n",
    "\n",
    "plt.figure(figsize=(7,7), dpi=100)\n",
    "plt.title(\"Струјнице на основу векторског поља брзине\", fontsize=14, pad = 20, weight='bold')\n",
    "plt.streamplot(X, Y, u, v, density=[1.75], linewidth=2, arrowsize = 1.25)\n",
    "plt.contour(X,Y, psi, levels=[0], colors='red', linewidths=3, linestyles='solid')\n",
    "plt.xlabel(\"$x$\", fontsize=16)\n",
    "plt.ylabel(\"$y$\", fontsize=16)"
   ]
  }
 ],
 "metadata": {
  "kernelspec": {
   "display_name": "Python 3 (ipykernel)",
   "language": "python",
   "name": "python3"
  },
  "language_info": {
   "codemirror_mode": {
    "name": "ipython",
    "version": 3
   },
   "file_extension": ".py",
   "mimetype": "text/x-python",
   "name": "python",
   "nbconvert_exporter": "python",
   "pygments_lexer": "ipython3",
   "version": "3.8.18"
  }
 },
 "nbformat": 4,
 "nbformat_minor": 5
}
