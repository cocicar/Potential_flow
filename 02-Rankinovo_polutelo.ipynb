{
 "cells": [
  {
   "cell_type": "markdown",
   "id": "0484999e-684e-45ad-959d-b21b15d0795c",
   "metadata": {},
   "source": [
    "# **2. Ранкиново полутело**\n",
    "\n",
    "Разматра се опструјавање извора који се налази у координатном почетку, униформном струјом интензитета $U_{\\infty}$. Комплексни потенцијал којим је описано ово струјање је \n",
    "\n",
    "$$w(z) = U_{\\infty}\\, z + \\frac{\\varepsilon}{2\\pi}\\,\\ln z$$\n",
    "\n",
    "Визуелизацију овог струјања ћемо извршити користећи функције из нумпај (numpy) и матплотлиб (matplotlib) модула. У ту сврху, прво ћемо учитати те модуле, и дефинисати да позадина дијаграма буде светло сива. Избор боје позадине није неопходна ставка у програму. Такође, како ће користити вредност $\\pi$ у каснијем делу програма, његову вредност ћемо преузети из модула нумпај (numpy)."
   ]
  },
  {
   "cell_type": "code",
   "execution_count": null,
   "id": "3bed72fb-49be-45ed-a687-b4280bf37e45",
   "metadata": {
    "tags": []
   },
   "outputs": [],
   "source": [
    "import numpy as np\n",
    "from matplotlib import pyplot as plt\n",
    "plt.rcParams['axes.facecolor'] = '#EBECF0' # светло сива позадина дијаграма\n",
    "pi = np.pi\n",
    "print (pi)"
   ]
  },
  {
   "cell_type": "markdown",
   "id": "caa8a9fc-7738-47f0-af6f-51d919053482",
   "metadata": {},
   "source": [
    "Функција print штампа вредност промењиве на стандарндом излазу (терминал, или пак ова Јупитер страница). Даље је неопходно дефинисати домен у коме желимо да прикажемо струјну слику, тачније његове границе по координатама $x, y$:\n",
    "\n",
    "$$ -5 \\leqslant x \\leqslant 10, \\qquad -5 \\leqslant y \\leqslant 5$$\n",
    "\n",
    "јер се ради о раванском струјању - домен ће бити облика правоуганика (део равни $x,y$). Избор ових граница је потпуно произвољан - он се бира тако да добијена крајња слика за задате параметру ($U_{\\infty}$ и $\\varepsilon$) буде адекватно приказана. Изабране опсеге ћемо поделити на одговарајући број тачака. У ту сврху можемо користити неколико функција у оквиру нумпај модула. Овде ћемо изабрати функцију linspace, која формира низ од $N_x$ задатог броја елемената (чланова) са $x_{\\min}$ као првим елементом, а $x_{\\max}$ као последњим елементом. Низ је растући, и сваки његов следећи елемент је већи од претходног за $\\Delta x$, где је $\\Delta x = (x_{\\max} - x_{\\min})/(N_x-1)$"
   ]
  },
  {
   "cell_type": "code",
   "execution_count": null,
   "id": "ba4feb4b-5293-4a27-ba09-a07046c81a39",
   "metadata": {
    "tags": []
   },
   "outputs": [],
   "source": [
    "Nx = 401\n",
    "Ny = 201\n",
    "x = np.linspace(-5, 10, Nx)\n",
    "y = np.linspace(-5, 5, Ny)\n",
    "print(\"Дужина низа x (број елемената):\", len(x), \"   ||   Индекс првог члан низа је 0, а последњег\", Nx-1, \".\")\n",
    "print(\"Први елемент низа x[0] = \", x[0],  \", a последњи x[\", Nx-1,\"] = \", x[Nx-1])"
   ]
  },
  {
   "cell_type": "markdown",
   "id": "9675615e-0f82-44e3-a020-905fa22ffdc3",
   "metadata": {},
   "source": [
    "Сада ћемо направити нумеричку мрежу, односно парове тачака са координатама $(x, y)$, тако да се сваки елемент низа $x$ комбинује са сваким елементом низа $y$. У ту сврху користимо команду meshgrid из модула numpy, која прави тзв. **енторку** (енг. tuples)"
   ]
  },
  {
   "cell_type": "code",
   "execution_count": null,
   "id": "8cb7035a-27b3-4e36-845b-631eadbf3e79",
   "metadata": {},
   "outputs": [],
   "source": [
    "X,Y = np.meshgrid(x,y)\n",
    "plt.figure(figsize=(10, 5.5), dpi=100)\n",
    "plt.plot(X, Y, marker='o', ms=2, color='k', alpha=1, linestyle='none')\n",
    "plt.xlim([-1,1])\n",
    "plt.ylim([-1,1])\n",
    "plt.show()"
   ]
  },
  {
   "cell_type": "code",
   "execution_count": null,
   "id": "2e291a19-f972-4998-aa44-d924b8fb5a90",
   "metadata": {
    "tags": []
   },
   "outputs": [],
   "source": [
    "# Вредности за интензитет униформне струје \n",
    "# и издашност извора\n",
    "Uinf = 1\n",
    "Eps = 8\n",
    "\n",
    "z = X + 1j*Y\n",
    "# Kompleksni potencijal\n",
    "w = Uinf*z + Eps/(2*pi)*np.log(z)\n",
    "phi = w.real\n",
    "psi = w.imag"
   ]
  },
  {
   "cell_type": "markdown",
   "id": "a49d890d-a3fd-4081-be22-8bbc438f4c52",
   "metadata": {},
   "source": [
    "Са овим командама су дефинисанe фукнције $\\varphi(x,y)$ и $\\psi(x,y)$, тачније њихове вредности у свима тачкама нумеричке мреже (познате вредности $x$ и $y$). Сада ћемо користити функцију која ће спојити линије са истим вредностима одговарајаће функције. Пре тога, морамо дефинисати које су то вредности. Изабраћемо да су то контуре на којима је вредност струјне функције од $-2\\varepsilon$ до $2\\varepsilon$, и израбраћено да тај број контура буде 65, са претходно дефинисаном функцијом np.linspace."
   ]
  },
  {
   "cell_type": "code",
   "execution_count": null,
   "id": "188e847b-aca8-44b7-ac34-9f55a4a6204c",
   "metadata": {
    "tags": []
   },
   "outputs": [],
   "source": [
    "psiC = np.linspace(-2*Eps, 2*Eps, 65)\n",
    "\n",
    "plt.figure(figsize=(10, 6), dpi=100)\n",
    "plt.title(\"Струјнице ($\\psi = \\psi_C$): контуре скаларног поља $\\psi(x,y)$\", fontsize=16, pad = 20, weight='bold')\n",
    "plt.xlabel(\"$x$\", fontsize=16)\n",
    "plt.ylabel(\"$y$\", fontsize=16)\n",
    "strujnice = plt.contour(X,Y, psi, levels = psiC, colors='teal', linewidths=1.75, linestyles='solid')\n",
    "\n",
    "## На карактеристичној струјници вредност струјне функције је Eps/2, односно -Eps/2\n",
    "rankine = plt.contour(X,Y, psi, levels=[-Eps/2, Eps/2], colors='orange', linewidths=3.5, linestyles='solid')\n",
    "\n",
    "## Eстетике ради, додајемо тачке које означавају извор и положај зауставне тачке\n",
    "circle = plt.Circle((0.0, 0.0), radius=0.2, color='teal')\n",
    "plt.gca().add_patch(circle)\n",
    "circle = plt.Circle((-Eps/(2*pi*Uinf), 0.0), radius=0.15, color='orange')\n",
    "plt.gca().add_patch(circle)"
   ]
  },
  {
   "cell_type": "markdown",
   "id": "5b808ee6-3976-446e-a360-c27653f315cd",
   "metadata": {},
   "source": [
    "На овим контурама нема стрелица које означавају смерове струјања, односно смер вектора брзине у датим тачкама, јер су оне еквискаларне линије скаларног поља - струјне функције. За приказивање смерова струјања, треба графички приказати векторске линије векторског поља брзине. Комплексна брзина $\\overline{U}(z)$ је комплексна аналитичка функција која се дефинише као извод комплексног потенцијала $w(z)$, што се у овом случају своди на \n",
    "\n",
    "$$ \\overline{U}(z) \\equiv u(x,y) - i v(x,y)= \\frac{\\mathrm{d}w(z)}{\\mathrm{d}z} = \\frac{\\mathrm{d}}{\\mathrm{d}z} \\left( U_{\\infty} z + \\frac{\\varepsilon}{2\\pi}\\, \\ln z\\right) = U_{\\infty}  + \\frac{\\varepsilon}{2 \\pi z}$$\n",
    "\n",
    "Реални део комплексне функције $\\overline{U}(z)$ је скаларно поље брзине $u(x,y)$, док је имагинарни део $-v(x,y)$, то јест\n",
    "\n",
    "$$ u = \\mathrm{Re}\\left[\\overline{U}(z)\\right], \\qquad v = - \\mathrm{Im}\\left[\\overline{U}(z)\\right]$$"
   ]
  },
  {
   "cell_type": "code",
   "execution_count": null,
   "id": "d4a14942-49dd-407c-a92f-653c4d8994d0",
   "metadata": {
    "tags": []
   },
   "outputs": [],
   "source": [
    "U = Uinf + Eps/(2*pi*z)\n",
    "u = U.real\n",
    "v = -U.imag\n",
    "\n",
    "plt.figure(figsize=(10,6), dpi=100)\n",
    "plt.title(\"Струјнице на основу векторског поља брзине\", fontsize=16, pad = 20, weight='bold')\n",
    "plt.streamplot(X, Y, u, v, density=[1.75], linewidth=2, arrowsize = 1.25)\n",
    "plt.contour(X,Y, psi, levels=[-Eps/2, Eps/2], colors='red', linewidths=3, linestyles='solid')\n",
    "plt.xlabel(\"$x$\", fontsize=16)\n",
    "plt.ylabel(\"$y$\", fontsize=16)\n",
    "\n",
    "# Извор у координатном почетку\n",
    "circle = plt.Circle((0.0, 0.0), radius=0.175, color='blue', zorder=2)\n",
    "plt.gca().add_patch(circle)\n",
    "\n",
    "# Зауставна тачка\n",
    "circle = plt.Circle((-Eps/(2*pi*Uinf), 0.0), radius=0.15, color='red')\n",
    "plt.gca().add_patch(circle)"
   ]
  },
  {
   "cell_type": "markdown",
   "id": "87480409-d5e1-4435-8a7a-bfd45ce29602",
   "metadata": {},
   "source": [
    "Даље се, на пример, може одредити и поље притиска, и приказати његова расподела. Поље притиска је са пољем брзине повезано преко Бернулијеве једначине \n",
    "\n",
    "$$ p + \\rho \\frac{U^2}{2} = \\mathrm{const} \\qquad \\Rightarrow \\qquad p + \\rho \\frac{U^2}{2} = p_{\\infty} + \\rho \\frac{U_{\\infty}^2}{2} \\qquad \\Rightarrow \\qquad p - p_{\\infty} = \\rho\\frac{U_{\\infty}^2}{2} \\left( 1 - \\frac{U^2}{U_{\\infty}^2}\\right) \\qquad \\Rightarrow \\qquad C_p \\equiv \\frac{p-p_{\\infty}}{\\frac{1}{2}\\rho U_{\\infty}^2} = 1 - \\frac{U^2}{U_{\\infty}^2}$$ \n",
    "\n",
    "где је $C_p$ погодно уведена величина која се назива **коефицијент притиска**. \n",
    "\n",
    "**Домаћи:** приказати расподелу притиска у струјном пољу изван Ранкиновог полутела применом обојених контура (функција contourf).\n"
   ]
  }
 ],
 "metadata": {
  "kernelspec": {
   "display_name": "Python 3 (ipykernel)",
   "language": "python",
   "name": "python3"
  },
  "language_info": {
   "codemirror_mode": {
    "name": "ipython",
    "version": 3
   },
   "file_extension": ".py",
   "mimetype": "text/x-python",
   "name": "python",
   "nbconvert_exporter": "python",
   "pygments_lexer": "ipython3",
   "version": "3.8.18"
  }
 },
 "nbformat": 4,
 "nbformat_minor": 5
}
