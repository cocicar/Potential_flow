{
 "cells": [
  {
   "cell_type": "markdown",
   "id": "596844c7-6d0a-4467-88d4-d405398273c8",
   "metadata": {},
   "source": [
    "# **3. Струјање у пољу извора и понора једнаких издашности. Двопол.**\n",
    "\n",
    "Разматра се струјање у пољу извора и понора једнаких издашности $\\varepsilon$ који се налазе на одређеном растојању. Ради једноставности манипулације над математичким изразима, најпогодније је изабрати да су ова два сингуларитета смештена симетричном у односу на $y$-осу, и да се налазе на $x$-оси, у тачкама $z_{0,1} = -a$ (извор), односно $z_{0,2} = а$ (понор). Тако су комплексни потенцијал и комплексна брзина овог струјања\n",
    "\n",
    "$$\\qquad \\qquad w(z) = \\frac{\\varepsilon}{2\\pi} \\, \\ln(z+a) - \\frac{\\varepsilon}{2\\pi} \\,\\ln(z-a), \\qquad \\overline{U}(z) \\equiv \\frac{\\mathrm{d}w}{\\mathrm{d}z} = \\frac{\\varepsilon}{2\\pi(z+a)} - \\frac{\\varepsilon}{2\\pi(z-a)} = - \\frac{\\varepsilon}{\\pi}\\frac{a}{z^2 + a^2}$$\n",
    "\n",
    "У програмском коду који следи морамо да задамо издашност $\\varepsilon$ као и растојање $a$. Изабраћемо да је $\\varepsilon = 2 \\,\\mathrm{m^2/s}$, a растојање $a=1\\,\\mathrm{m}$."
   ]
  },
  {
   "cell_type": "code",
   "execution_count": null,
   "id": "e484987a-e6e2-4cdc-8370-37ebfb56d9df",
   "metadata": {
    "tags": []
   },
   "outputs": [],
   "source": [
    "import numpy as np\n",
    "from matplotlib import pyplot as plt\n",
    "plt.rcParams['axes.facecolor'] = '#EBECF0' # светло сива позадина дијаграма\n",
    "\n",
    "Nx = 501\n",
    "Ny = 501\n",
    "x = np.linspace(-4, 4, Nx)\n",
    "y = np.linspace(-4, 4, Ny)\n",
    "X,Y = np.meshgrid(x,y)\n",
    "\n",
    "Eps = 4\n",
    "a = 1\n",
    "\n",
    "z = X + 1j*Y\n",
    "Wz = Eps/(2*np.pi) * np.log(z + a) - Eps/(2*np.pi) * np.log(z - a)\n",
    "phi = Wz.real\n",
    "psi = Wz.imag\n",
    "\n",
    "#psi = Eps/(2*np.pi)*(np.arctan2(Y, X+a) - np.arctan2(Y, X-a))\n",
    "\n",
    "psi_i = np.linspace(-Eps/2, Eps/2, 21)\n",
    "phi_i = np.linspace(-Eps/2, Eps/2, 21)\n",
    "\n",
    "\n",
    "Uz = Eps/(2*np.pi*(z + a)) - Eps/(2*np.pi*(z - a))\n",
    "u = Uz.real\n",
    "v = -Uz.imag\n",
    "\n",
    "\n",
    "plt.figure(figsize=(15, 7), dpi=110)\n",
    "plt.subplots_adjust(hspace=1)\n",
    "\n",
    "# Први дијаграм - струјнице и еквипотенцијалне линије\n",
    "fig1 = plt.subplot(1,2,1)\n",
    "plt.title(\"Струјнице и еквипотенцијане линије\", fontsize=14, pad = 20, weight='bold')\n",
    "strunice = fig1.contour(X,Y, psi, levels = psi_i, linewidths=2, colors='red', linestyles='solid')\n",
    "ekvipotencijalne_linije = plt.contour(X,Y, phi, levels = phi_i, linewidths=1.75, linestyles='dashed', colors='black')\n",
    "fig1.scatter(-a,0, color='black', s = 100, marker='o', zorder=1)\n",
    "fig1.scatter(a,0, color='black', s = 100, marker='o', zorder=1)\n",
    "plt.xlabel(\"$x$\", fontsize=12)\n",
    "plt.ylabel(\"$y$\", fontsize=12)\n",
    "\n",
    "fig2 = plt.subplot(1,2,2)\n",
    "plt.title(\"Струјнице на основу векторског поља брзине\", fontsize=14, pad = 20, weight='bold')\n",
    "fig2.streamplot(X, Y, u, v, density=[1.75], linewidth=2, arrowsize = 1.25)\n",
    "#fig2.contour(X,Y, psi, levels=[0], colors='red', linewidths=3, linestyles='solid')\n",
    "fig2.scatter(-a,0, color='black', s = 100, marker='o', zorder=1)\n",
    "fig2.scatter(a,0, color='black', s = 100, marker='o', zorder=1)\n",
    "plt.xlabel(\"$x$\", fontsize=14)\n",
    "plt.ylabel(\"$y$\", fontsize=12)"
   ]
  },
  {
   "cell_type": "markdown",
   "id": "c4b8b26a-bcaf-4810-8c48-ef68ce493f02",
   "metadata": {},
   "source": [
    "\n",
    "## **3.1 Двопол**\n",
    "\n",
    "Двопол спада у категорију основних струјања чије је порекло у претходно разматраном сложеном струјању (струјање у пољу извора и понора једнаких издашности $\\varepsilon$ који се налазе на растојању $2a$. Двопол настаје у случају када у истовремено и $a\\to 0$ и $\\varepsilon \\to \\infty$ - извор и понор иду ка координантом почетку. Тада се комплексни потенцијал своди на \n",
    "\n",
    "$$ w(z) = \\frac{M}{2\\pi z}, \\qquad M = \\lim_{\\begin{array}{c}a\\to 0  \\\\\\varepsilon \\to \\infty\\end{array}} 2 a \\varepsilon \\,\\, \\text{ - коначна вредност, већа од нуле}$$\n",
    "\n",
    "где је са $M$ означена величина која се назива **момент двопола**. Овде се ради о двополу смештеном у координатном почетку."
   ]
  },
  {
   "cell_type": "code",
   "execution_count": null,
   "id": "fc5f54df-5d18-499d-9804-0a28f7bd3e85",
   "metadata": {
    "tags": []
   },
   "outputs": [],
   "source": [
    "M = 2\n",
    "w = M/(2*np.pi*z)\n",
    "\n",
    "phi = w.real\n",
    "psi = w.imag\n",
    "psi_i = np.linspace(-M/8, M/8, 15)\n",
    "phi_i = np.linspace(-M/8, M/8, 7)\n",
    "\n",
    "U = - M/(2*np.pi*z**2)\n",
    "u = U.real\n",
    "v = -U.imag\n",
    "\n",
    "plt.figure(figsize=(15, 7), dpi=110)\n",
    "plt.subplots_adjust(hspace=1)\n",
    "\n",
    "# Први дијаграм - струјнице и еквипотенцијалне линије\n",
    "fig1 = plt.subplot(1,2,1)\n",
    "plt.title(\"Струјнице и еквипотенцијане линије\", fontsize=14, pad = 20, weight='bold')\n",
    "strujnice = fig1.contour(X,Y, psi, levels = psi_i, linewidths=2, colors='red', linestyles='solid')\n",
    "ekvipotencijalne_linije = plt.contour(X,Y, phi, levels = phi_i, linewidths=1.75, linestyles='dashed', colors='black')\n",
    "plt.xlabel(\"$x$\", fontsize=12)\n",
    "plt.ylabel(\"$y$\", fontsize=12)\n",
    "\n",
    "fig2 = plt.subplot(1,2,2)\n",
    "plt.title(\"Струјнице на основу векторског поља брзине\", fontsize=14, pad = 20, weight='bold')\n",
    "fig2.streamplot(X, Y, u, v, density=[1.75], linewidth=2, arrowsize = 1.25)\n",
    "#fig2.contour(X,Y, psi, levels=[0], colors='red', linewidths=3, linestyles='solid')\n",
    "plt.xlabel(\"$x$\", fontsize=14)\n",
    "plt.ylabel(\"$y$\", fontsize=12)"
   ]
  }
 ],
 "metadata": {
  "kernelspec": {
   "display_name": "Python 3 (ipykernel)",
   "language": "python",
   "name": "python3"
  },
  "language_info": {
   "codemirror_mode": {
    "name": "ipython",
    "version": 3
   },
   "file_extension": ".py",
   "mimetype": "text/x-python",
   "name": "python",
   "nbconvert_exporter": "python",
   "pygments_lexer": "ipython3",
   "version": "3.8.18"
  }
 },
 "nbformat": 4,
 "nbformat_minor": 5
}
